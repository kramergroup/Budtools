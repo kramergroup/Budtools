{
 "cells": [
  {
   "cell_type": "markdown",
   "metadata": {},
   "source": [
    "# A short bit of text explaining this thingy\n",
    "\n",
    "onetepconv generates quick and easy onetepconvergence parameters for the elements in your system.\n",
    "\n",
    "Some prereqs needed. My pt.py and my i_functions (for verbose printing [techincally you could remove all lines with 'vprint' and the code will work without it]) and onetep obviously. Other than that supplying a text document for a onetep.dat file and an outputdirectory should be more than adequate.\n",
    "\n",
    "If you have any issues reach out. If you want to fix, tinker or change anything go ahead :). This was hacked together very quickly cause the one on oneteps docs wasn't working. "
   ]
  },
  {
   "cell_type": "code",
   "execution_count": 1,
   "metadata": {},
   "outputs": [],
   "source": [
    "import sys\n",
    "import os\n",
    "sys.path.insert(0, os.path.abspath('../'))\n",
    "\n",
    "import onetepconvpy\n",
    "# all import should be within onetepconvpy\n",
    "# This should be a tool to make onetepconv of mgwf stuff.\n",
    "# technically you only need the verbose function for i_functions so you can in theory you can get around grabbing i_functions"
   ]
  },
  {
   "cell_type": "markdown",
   "metadata": {},
   "source": [
    "The tool requires some simple inputs but other than that it should be pretty clean\n",
    "\n",
    "Required inputs - inputfile, outputdir, number of steps, stepsize, \n",
    "Other inputs are 3 booleans - uselibs, simple and verbose \n",
    "uselibs and simple.\n",
    "\n",
    "The uselibs functionality is most likely to give you issues atm, however the idea is eventually if\n",
    "you are unsure of the ngwf num and ngwf rad for your job it'll pick the library defined value\n",
    "\n",
    "Feel free to fiddle with it and give it some testing. Read within the code as it's pretty heavily documented what each step does and see if there are any issues or ideas that can be put in. \n",
    "\n",
    "Suggested that you define the block psuedos correctly or else you'll be chasing them around for a bit.\n",
    "\n",
    "It's pretty small. :)"
   ]
  },
  {
   "cell_type": "raw",
   "metadata": {},
   "source": [
    "conv_ngwf_rad(input_file='path/to/file/here', outputdir='path/to/output/here', numbersteps=4, stepsize=0.5)\n",
    "# No such stepsize is possible for ngwf num and it'll just climb by one.\n",
    "conv_ngwf_num(input_file='path/to/file/here', outputdir='path/to/output/here', numbersteps=4)\n",
    "\n",
    "# it'll generate a set of dat files and additionally a txt file showing you the input parameters used.\n",
    "# As of current the print-out features are a little bit dodge since it's new code and i was sort of testing things. I'll work on it."
   ]
  },
  {
   "cell_type": "code",
   "execution_count": 2,
   "metadata": {},
   "outputs": [
    {
     "name": "stdout",
     "output_type": "stream",
     "text": [
      "completeness mode has been selected, generating the full set of possible ngwf values instead\n",
      "['%BLOCK SPECIES', 'Li Li 3 4 3.0', 'Co Co 27 10 3.0', 'O O 8 4 3.0', '%ENDBLOCK SPECIES']\n",
      "['%BLOCK SPECIES', 'Li Li 3 5 3.0', 'Co Co 27 10 3.0', 'O O 8 4 3.0', '%ENDBLOCK SPECIES']\n",
      "['%BLOCK SPECIES', 'Li Li 3 6 3.0', 'Co Co 27 10 3.0', 'O O 8 4 3.0', '%ENDBLOCK SPECIES']\n",
      "['%BLOCK SPECIES', 'Li Li 3 7 3.0', 'Co Co 27 10 3.0', 'O O 8 4 3.0', '%ENDBLOCK SPECIES']\n",
      "['%BLOCK SPECIES', 'Co Co 27 9 3.0', 'Li Li 3 5 3.0', 'O O 8 4 3.0', '%ENDBLOCK SPECIES']\n",
      "['%BLOCK SPECIES', 'Co Co 27 10 3.0', 'Li Li 3 5 3.0', 'O O 8 4 3.0', '%ENDBLOCK SPECIES']\n",
      "['%BLOCK SPECIES', 'Co Co 27 11 3.0', 'Li Li 3 5 3.0', 'O O 8 4 3.0', '%ENDBLOCK SPECIES']\n",
      "['%BLOCK SPECIES', 'Co Co 27 12 3.0', 'Li Li 3 5 3.0', 'O O 8 4 3.0', '%ENDBLOCK SPECIES']\n",
      "['%BLOCK SPECIES', 'O O 8 3 3.0', 'Li Li 3 5 3.0', 'Co Co 27 10 3.0', '%ENDBLOCK SPECIES']\n",
      "['%BLOCK SPECIES', 'O O 8 4 3.0', 'Li Li 3 5 3.0', 'Co Co 27 10 3.0', '%ENDBLOCK SPECIES']\n",
      "['%BLOCK SPECIES', 'O O 8 5 3.0', 'Li Li 3 5 3.0', 'Co Co 27 10 3.0', '%ENDBLOCK SPECIES']\n",
      "['%BLOCK SPECIES', 'O O 8 6 3.0', 'Li Li 3 5 3.0', 'Co Co 27 10 3.0', '%ENDBLOCK SPECIES']\n",
      "if your result is wildly different from that seen in the pt consider changing the pt for future users\n",
      "completeness mode has been selected, generating the full set of possible ngwf values instead\n",
      "['%BLOCK SPECIES', 'Li Li 3 5 3.0', 'Co Co 27 10 3.0', 'O O 8 4 3.0', '%ENDBLOCK SPECIES']\n",
      "['%BLOCK SPECIES', 'Li Li 3 5 3.5', 'Co Co 27 10 3.0', 'O O 8 4 3.0', '%ENDBLOCK SPECIES']\n",
      "['%BLOCK SPECIES', 'Li Li 3 5 4.0', 'Co Co 27 10 3.0', 'O O 8 4 3.0', '%ENDBLOCK SPECIES']\n",
      "['%BLOCK SPECIES', 'Li Li 3 5 4.5', 'Co Co 27 10 3.0', 'O O 8 4 3.0', '%ENDBLOCK SPECIES']\n",
      "['%BLOCK SPECIES', 'Co Co 27 10 3.0', 'Li Li 3 5 3.0', 'O O 8 4 3.0', '%ENDBLOCK SPECIES']\n",
      "['%BLOCK SPECIES', 'Co Co 27 10 3.5', 'Li Li 3 5 3.0', 'O O 8 4 3.0', '%ENDBLOCK SPECIES']\n",
      "['%BLOCK SPECIES', 'Co Co 27 10 4.0', 'Li Li 3 5 3.0', 'O O 8 4 3.0', '%ENDBLOCK SPECIES']\n",
      "['%BLOCK SPECIES', 'Co Co 27 10 4.5', 'Li Li 3 5 3.0', 'O O 8 4 3.0', '%ENDBLOCK SPECIES']\n",
      "['%BLOCK SPECIES', 'O O 8 4 3.0', 'Li Li 3 5 3.0', 'Co Co 27 10 3.0', '%ENDBLOCK SPECIES']\n",
      "['%BLOCK SPECIES', 'O O 8 4 3.5', 'Li Li 3 5 3.0', 'Co Co 27 10 3.0', '%ENDBLOCK SPECIES']\n",
      "['%BLOCK SPECIES', 'O O 8 4 4.0', 'Li Li 3 5 3.0', 'Co Co 27 10 3.0', '%ENDBLOCK SPECIES']\n",
      "['%BLOCK SPECIES', 'O O 8 4 4.5', 'Li Li 3 5 3.0', 'Co Co 27 10 3.0', '%ENDBLOCK SPECIES']\n",
      "if your result is wildly different from that seen in the pt consider changing the pt for future users\n"
     ]
    }
   ],
   "source": [
    "onetepconvpy.conv_ngwf_num(input_file='../onetepconv/32LCOsys.dat', outputdir='../onetepconv/outputdir', verbose=False, simple=False)\n",
    "onetepconvpy.conv_ngwf_rad(input_file='../onetepconv/32LCOsys.dat', outputdir='../onetepconv/outputdir', verbose=False, simple=False)"
   ]
  },
  {
   "cell_type": "markdown",
   "metadata": {},
   "source": [
    "Generally from testing the ngwf number is roughly a measure of the valance orbitals that need to be considered. (~4 for pblock, 10 for dblock). \n",
    "\n",
    "While the ngwf radius is a little more finnicky. If your system size is very small ngwf radius may actually fall outside ofthe unit cell and onetep will spit an error. If you ngwf rad is too small then they will be smaller than  the psinc functions and onetep will spit an error. As a result it's probably ideal to do a small little study on the ideal ngwf radius for your system. Somewhere between 4-8 bohr seems to be more than adequate though. \n",
    "\n"
   ]
  },
  {
   "cell_type": "code",
   "execution_count": null,
   "metadata": {},
   "outputs": [],
   "source": []
  }
 ],
 "metadata": {
  "kernelspec": {
   "display_name": "Python 3",
   "language": "python",
   "name": "python3"
  },
  "language_info": {
   "codemirror_mode": {
    "name": "ipython",
    "version": 3
   },
   "file_extension": ".py",
   "mimetype": "text/x-python",
   "name": "python",
   "nbconvert_exporter": "python",
   "pygments_lexer": "ipython3",
   "version": "3.7.4"
  }
 },
 "nbformat": 4,
 "nbformat_minor": 4
}
