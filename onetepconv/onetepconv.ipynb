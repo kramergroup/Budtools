{
 "cells": [
  {
   "cell_type": "code",
   "execution_count": 12,
   "metadata": {},
   "outputs": [],
   "source": [
    "import onetepconvpy\n",
    "\n",
    "# all import should be within onetepconvpy\n",
    "# This should be a tool to make onetepconv of mgwf stuff.\n",
    "# technically you only need the verbose function for i_functions so you can in theory you can get around grabbing i_functions"
   ]
  },
  {
   "cell_type": "code",
   "execution_count": 9,
   "metadata": {},
   "outputs": [],
   "source": [
    "# The tool requires some simple inputs but other than that it should be pretty clean\n",
    "\n",
    "# Required inputs - inputfile, outputdir, number of steps, stepsize, \n",
    "# Other inputs are 3 booleans - uselibs, simple and verbose \n",
    "# uselibs and simple.\n",
    "\n",
    "# The uselibs functionality is most likely to give you issues atm, however the idea is eventually if\n",
    "# you are unsure of the ngwf num and ngwf rad for your job it'll pick the library defined value\n",
    "\n",
    "# Example call to ngwf_rad\n",
    "# conv_ngwf_rad(input_file='path/to/file/here', outputdir='path/to/output/here', numbersteps=4, stepsize=0.5)\n",
    " # No such stepsize is possible for ngwf num and it'll just climb by one.\n",
    "# conv_ngwf_num(input_file='path/to/file/here', outputdir='path/to/output/here', numbersteps=4)\n",
    "\n",
    "# it'll generate a set of dat files and additionally a txt file showing you the input parameters used."
   ]
  },
  {
   "cell_type": "code",
   "execution_count": 15,
   "metadata": {},
   "outputs": [
    {
     "name": "stdout",
     "output_type": "stream",
     "text": [
      "if your result is wildly different from that seen in the pt consider changing the pt for future users but then again the pt is mostly there for an index\n",
      "if your result is wildly different from that seen in the pt consider changing the pt for future users\n"
     ]
    }
   ],
   "source": [
    "onetepconvpy.conv_ngwf_num(input_file='onetepconv/32LCOsys.dat', outputdir='onetepconv/outputdir', verbose=False)\n",
    "# onetepconvpy.conv_ngwf_num(input_file='onetepconv/32LCOsys.dat', outputdir='onetepconv/outputdir', verbose=False)"
   ]
  },
  {
   "cell_type": "code",
   "execution_count": null,
   "metadata": {},
   "outputs": [],
   "source": []
  }
 ],
 "metadata": {
  "kernelspec": {
   "display_name": "Python 3",
   "language": "python",
   "name": "python3"
  },
  "language_info": {
   "codemirror_mode": {
    "name": "ipython",
    "version": 3
   },
   "file_extension": ".py",
   "mimetype": "text/x-python",
   "name": "python",
   "nbconvert_exporter": "python",
   "pygments_lexer": "ipython3",
   "version": "3.7.4"
  }
 },
 "nbformat": 4,
 "nbformat_minor": 4
}
